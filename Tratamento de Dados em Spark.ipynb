{
 "cells": [
  {
   "cell_type": "markdown",
   "metadata": {},
   "source": [
    "## Gerando dados de teste"
   ]
  },
  {
   "cell_type": "code",
   "execution_count": 16,
   "metadata": {},
   "outputs": [],
   "source": [
    "from pyspark.sql import Row"
   ]
  },
  {
   "cell_type": "code",
   "execution_count": 49,
   "metadata": {},
   "outputs": [],
   "source": [
    "Name = Row(\"cod\", \"nome\")\n",
    "data = [Name(1, \" 'Marco' \"), Name(2, \" 'Miranda' \")]"
   ]
  },
  {
   "cell_type": "code",
   "execution_count": 50,
   "metadata": {},
   "outputs": [],
   "source": [
    "data_frame = spark.createDataFrame(data)"
   ]
  },
  {
   "cell_type": "code",
   "execution_count": 51,
   "metadata": {},
   "outputs": [
    {
     "name": "stdout",
     "output_type": "stream",
     "text": [
      "root\n",
      " |-- cod: long (nullable = true)\n",
      " |-- nome: string (nullable = true)\n",
      "\n",
      "None\n",
      "+---+-----------+\n",
      "|cod|       nome|\n",
      "+---+-----------+\n",
      "|  1|   'Marco' |\n",
      "|  2| 'Miranda' |\n",
      "+---+-----------+\n",
      "\n"
     ]
    }
   ],
   "source": [
    "print(data_frame.printSchema())\n",
    "data_frame.show()"
   ]
  },
  {
   "cell_type": "code",
   "execution_count": 52,
   "metadata": {},
   "outputs": [],
   "source": [
    "data_frame.write.csv(\"/user/marco/teste_csv\", mode=\"overwrite\", header=\"true\", sep=\";\")"
   ]
  },
  {
   "cell_type": "markdown",
   "metadata": {},
   "source": [
    "## Leitura de dados"
   ]
  },
  {
   "cell_type": "code",
   "execution_count": 53,
   "metadata": {},
   "outputs": [
    {
     "name": "stdout",
     "output_type": "stream",
     "text": [
      "+---+---------+\n",
      "|cod|     nome|\n",
      "+---+---------+\n",
      "|  2|'Miranda'|\n",
      "|  1|  'Marco'|\n",
      "+---+---------+\n",
      "\n"
     ]
    }
   ],
   "source": [
    "spark.read.csv(\"/user/marco/teste_csv\", header = \"true\", sep=\";\").show()"
   ]
  },
  {
   "cell_type": "code",
   "execution_count": 54,
   "metadata": {},
   "outputs": [
    {
     "name": "stdout",
     "output_type": "stream",
     "text": [
      "+---+---------+\n",
      "|cod|     nome|\n",
      "+---+---------+\n",
      "|  2|'Miranda'|\n",
      "|  1|  'Marco'|\n",
      "+---+---------+\n",
      "\n"
     ]
    }
   ],
   "source": [
    "# Remover espaços no início ao apresentar\n",
    "spark.read.csv(\"/user/marco/teste_csv\", header = \"true\", sep=\";\", ignoreLeadingWhiteSpace=\"true\").show()"
   ]
  },
  {
   "cell_type": "code",
   "execution_count": 55,
   "metadata": {},
   "outputs": [
    {
     "name": "stdout",
     "output_type": "stream",
     "text": [
      "+---+---------+\n",
      "|cod|     nome|\n",
      "+---+---------+\n",
      "|  2|'Miranda'|\n",
      "|  1|  'Marco'|\n",
      "+---+---------+\n",
      "\n"
     ]
    }
   ],
   "source": [
    "# Remover espaços no final ao apresentar\n",
    "spark.read.csv(\"/user/marco/teste_csv\", header = \"true\", sep=\";\", ignoreTrailingWhiteSpace=\"true\").show()"
   ]
  },
  {
   "cell_type": "code",
   "execution_count": 56,
   "metadata": {},
   "outputs": [
    {
     "name": "stdout",
     "output_type": "stream",
     "text": [
      "+---+---------+\n",
      "|cod|     nome|\n",
      "+---+---------+\n",
      "|  2|'Miranda'|\n",
      "|  1|  'Marco'|\n",
      "+---+---------+\n",
      "\n"
     ]
    }
   ],
   "source": [
    "# Remover espaços no início ao apresentar\n",
    "spark.read.csv(\"/user/marco/teste_csv\", header = \"true\", sep=\";\", ignoreLeadingWhiteSpace=\"true\").show()"
   ]
  },
  {
   "cell_type": "code",
   "execution_count": 57,
   "metadata": {},
   "outputs": [
    {
     "name": "stdout",
     "output_type": "stream",
     "text": [
      "+---+-------+\n",
      "|cod|   nome|\n",
      "+---+-------+\n",
      "|  2|Miranda|\n",
      "|  1|  Marco|\n",
      "+---+-------+\n",
      "\n"
     ]
    }
   ],
   "source": [
    "# Remover aspas ao apresentar\n",
    "spark.read.csv(\"/user/marco/teste_csv\", header = \"true\", sep=\";\", quote=\"\\'\").show()"
   ]
  },
  {
   "cell_type": "code",
   "execution_count": null,
   "metadata": {},
   "outputs": [],
   "source": []
  }
 ],
 "metadata": {
  "kernelspec": {
   "display_name": "PySpark",
   "language": "python",
   "name": "pyspark"
  },
  "language_info": {
   "codemirror_mode": {
    "name": "ipython",
    "version": 3
   },
   "file_extension": ".py",
   "mimetype": "text/x-python",
   "name": "python",
   "nbconvert_exporter": "python",
   "pygments_lexer": "ipython3",
   "version": "3.6.10"
  }
 },
 "nbformat": 4,
 "nbformat_minor": 2
}
